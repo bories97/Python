{
 "cells": [
  {
   "cell_type": "code",
   "execution_count": 2,
   "metadata": {
    "colab": {
     "base_uri": "https://localhost:8080/"
    },
    "id": "Di6Y7CN5Escl",
    "outputId": "208aa07c-02b3-43cb-b985-9defb570f4ab"
   },
   "outputs": [
    {
     "name": "stdout",
     "output_type": "stream",
     "text": [
      "Drive already mounted at /content/drive; to attempt to forcibly remount, call drive.mount(\"/content/drive\", force_remount=True).\n"
     ]
    }
   ],
   "source": [
    "from google.colab import drive\n",
    "drive.mount('/content/drive')"
   ]
  },
  {
   "cell_type": "code",
   "execution_count": 39,
   "metadata": {
    "id": "7qixqwUxyAuA"
   },
   "outputs": [],
   "source": [
    "# nasa tmp\n",
    "# https://data.giss.nasa.gov/gistemp/graphs/graph_data/Global_Mean_Estimates_based_on_Land_and_Ocean_Data/graph.txt\n",
    "# https://www.macrotrends.net/countries/WLD/world/population\n",
    "# https://www.macrotrends.net/countries/WLD/world/gdp-gross-domestic-product\n",
    "\n",
    "\n",
    "import pandas as pd\n",
    "df1 = pd.read_csv('/content/drive/MyDrive/Colab Notebooks/temp/graph.csv', sep=',')\n",
    "df2 = pd.read_csv('/content/drive/MyDrive/Colab Notebooks/temp/pop.csv', sep=',')"
   ]
  },
  {
   "cell_type": "code",
   "execution_count": 40,
   "metadata": {
    "colab": {
     "base_uri": "https://localhost:8080/"
    },
    "id": "2DtXZ5cn8aiO",
    "outputId": "7f38925c-2d80-424a-f0cf-10caa73725f8"
   },
   "outputs": [
    {
     "name": "stdout",
     "output_type": "stream",
     "text": [
      "   Land           #NAME?  ure Index (C)\n",
      "0  ----  ---------------  -------------\n",
      "1   NaN              NaN            NaN\n",
      "2  Year     No_Smoothing      Lowess(5)\n",
      "3  ----  ---------------      ---------\n",
      "4  1880            -0.16          -0.08\n",
      "5  1881            -0.08          -0.12\n",
      "6  1882             -0.1          -0.16\n",
      "7  1883            -0.16           -0.2\n",
      "8  1884            -0.28          -0.23\n",
      "9  1885            -0.33          -0.26\n",
      "     Land #NAME? ure Index (C)\n",
      "140  2016   1.01          0.87\n",
      "141  2017   0.92          0.91\n",
      "142  2018   0.85          0.95\n",
      "143  2019   0.98          0.98\n",
      "144  2020   1.02          1.01\n"
     ]
    }
   ],
   "source": [
    "print(df1.head(10))\n",
    "print(df1.tail())"
   ]
  },
  {
   "cell_type": "code",
   "execution_count": 41,
   "metadata": {
    "colab": {
     "base_uri": "https://localhost:8080/"
    },
    "id": "z8l2exgy0GoO",
    "outputId": "6446b3e5-6981-4cf8-8565-020ec11e6c58"
   },
   "outputs": [
    {
     "name": "stdout",
     "output_type": "stream",
     "text": [
      "   Land #NAME?\n",
      "4  1880  -0.16\n",
      "5  1881  -0.08\n",
      "6  1882   -0.1\n",
      "7  1883  -0.16\n",
      "8  1884  -0.28\n",
      "     Land #NAME?\n",
      "140  2016   1.01\n",
      "141  2017   0.92\n",
      "142  2018   0.85\n",
      "143  2019   0.98\n",
      "144  2020   1.02\n"
     ]
    }
   ],
   "source": [
    "df1_new = df1.iloc[4:,:2]\n",
    "print(df1_new.head())\n",
    "print(df1_new.tail())"
   ]
  },
  {
   "cell_type": "code",
   "execution_count": 42,
   "metadata": {
    "colab": {
     "base_uri": "https://localhost:8080/"
    },
    "id": "td7SzXcG0obu",
    "outputId": "c587985f-6e3d-4942-9c16-39e51446ed19"
   },
   "outputs": [
    {
     "name": "stdout",
     "output_type": "stream",
     "text": [
      "<class 'pandas.core.frame.DataFrame'>\n",
      "RangeIndex: 141 entries, 4 to 144\n",
      "Data columns (total 2 columns):\n",
      " #   Column  Non-Null Count  Dtype \n",
      "---  ------  --------------  ----- \n",
      " 0   Land    141 non-null    object\n",
      " 1   #NAME?  141 non-null    object\n",
      "dtypes: object(2)\n",
      "memory usage: 2.3+ KB\n"
     ]
    }
   ],
   "source": [
    "df1_new.info()"
   ]
  },
  {
   "cell_type": "code",
   "execution_count": 43,
   "metadata": {
    "id": "nWcAbPIz1j63"
   },
   "outputs": [],
   "source": [
    "df1_new.columns = ['year', 'tmp']\n"
   ]
  },
  {
   "cell_type": "code",
   "execution_count": 44,
   "metadata": {
    "colab": {
     "base_uri": "https://localhost:8080/",
     "height": 455
    },
    "id": "DG8_zcfe1Ele",
    "outputId": "3a8b3d3e-16a3-4f86-b981-00c69cb07644"
   },
   "outputs": [
    {
     "data": {
      "text/html": [
       "\n",
       "  <div id=\"df-c5909da7-ea81-4967-830d-5e44516560cd\">\n",
       "    <div class=\"colab-df-container\">\n",
       "      <div>\n",
       "<style scoped>\n",
       "    .dataframe tbody tr th:only-of-type {\n",
       "        vertical-align: middle;\n",
       "    }\n",
       "\n",
       "    .dataframe tbody tr th {\n",
       "        vertical-align: top;\n",
       "    }\n",
       "\n",
       "    .dataframe thead th {\n",
       "        text-align: right;\n",
       "    }\n",
       "</style>\n",
       "<table border=\"1\" class=\"dataframe\">\n",
       "  <thead>\n",
       "    <tr style=\"text-align: right;\">\n",
       "      <th></th>\n",
       "      <th>tmp</th>\n",
       "    </tr>\n",
       "    <tr>\n",
       "      <th>year</th>\n",
       "      <th></th>\n",
       "    </tr>\n",
       "  </thead>\n",
       "  <tbody>\n",
       "    <tr>\n",
       "      <th>1880</th>\n",
       "      <td>-0.16</td>\n",
       "    </tr>\n",
       "    <tr>\n",
       "      <th>1881</th>\n",
       "      <td>-0.08</td>\n",
       "    </tr>\n",
       "    <tr>\n",
       "      <th>1882</th>\n",
       "      <td>-0.10</td>\n",
       "    </tr>\n",
       "    <tr>\n",
       "      <th>1883</th>\n",
       "      <td>-0.16</td>\n",
       "    </tr>\n",
       "    <tr>\n",
       "      <th>1884</th>\n",
       "      <td>-0.28</td>\n",
       "    </tr>\n",
       "    <tr>\n",
       "      <th>...</th>\n",
       "      <td>...</td>\n",
       "    </tr>\n",
       "    <tr>\n",
       "      <th>2016</th>\n",
       "      <td>1.01</td>\n",
       "    </tr>\n",
       "    <tr>\n",
       "      <th>2017</th>\n",
       "      <td>0.92</td>\n",
       "    </tr>\n",
       "    <tr>\n",
       "      <th>2018</th>\n",
       "      <td>0.85</td>\n",
       "    </tr>\n",
       "    <tr>\n",
       "      <th>2019</th>\n",
       "      <td>0.98</td>\n",
       "    </tr>\n",
       "    <tr>\n",
       "      <th>2020</th>\n",
       "      <td>1.02</td>\n",
       "    </tr>\n",
       "  </tbody>\n",
       "</table>\n",
       "<p>141 rows × 1 columns</p>\n",
       "</div>\n",
       "      <button class=\"colab-df-convert\" onclick=\"convertToInteractive('df-c5909da7-ea81-4967-830d-5e44516560cd')\"\n",
       "              title=\"Convert this dataframe to an interactive table.\"\n",
       "              style=\"display:none;\">\n",
       "        \n",
       "  <svg xmlns=\"http://www.w3.org/2000/svg\" height=\"24px\"viewBox=\"0 0 24 24\"\n",
       "       width=\"24px\">\n",
       "    <path d=\"M0 0h24v24H0V0z\" fill=\"none\"/>\n",
       "    <path d=\"M18.56 5.44l.94 2.06.94-2.06 2.06-.94-2.06-.94-.94-2.06-.94 2.06-2.06.94zm-11 1L8.5 8.5l.94-2.06 2.06-.94-2.06-.94L8.5 2.5l-.94 2.06-2.06.94zm10 10l.94 2.06.94-2.06 2.06-.94-2.06-.94-.94-2.06-.94 2.06-2.06.94z\"/><path d=\"M17.41 7.96l-1.37-1.37c-.4-.4-.92-.59-1.43-.59-.52 0-1.04.2-1.43.59L10.3 9.45l-7.72 7.72c-.78.78-.78 2.05 0 2.83L4 21.41c.39.39.9.59 1.41.59.51 0 1.02-.2 1.41-.59l7.78-7.78 2.81-2.81c.8-.78.8-2.07 0-2.86zM5.41 20L4 18.59l7.72-7.72 1.47 1.35L5.41 20z\"/>\n",
       "  </svg>\n",
       "      </button>\n",
       "      \n",
       "  <style>\n",
       "    .colab-df-container {\n",
       "      display:flex;\n",
       "      flex-wrap:wrap;\n",
       "      gap: 12px;\n",
       "    }\n",
       "\n",
       "    .colab-df-convert {\n",
       "      background-color: #E8F0FE;\n",
       "      border: none;\n",
       "      border-radius: 50%;\n",
       "      cursor: pointer;\n",
       "      display: none;\n",
       "      fill: #1967D2;\n",
       "      height: 32px;\n",
       "      padding: 0 0 0 0;\n",
       "      width: 32px;\n",
       "    }\n",
       "\n",
       "    .colab-df-convert:hover {\n",
       "      background-color: #E2EBFA;\n",
       "      box-shadow: 0px 1px 2px rgba(60, 64, 67, 0.3), 0px 1px 3px 1px rgba(60, 64, 67, 0.15);\n",
       "      fill: #174EA6;\n",
       "    }\n",
       "\n",
       "    [theme=dark] .colab-df-convert {\n",
       "      background-color: #3B4455;\n",
       "      fill: #D2E3FC;\n",
       "    }\n",
       "\n",
       "    [theme=dark] .colab-df-convert:hover {\n",
       "      background-color: #434B5C;\n",
       "      box-shadow: 0px 1px 3px 1px rgba(0, 0, 0, 0.15);\n",
       "      filter: drop-shadow(0px 1px 2px rgba(0, 0, 0, 0.3));\n",
       "      fill: #FFFFFF;\n",
       "    }\n",
       "  </style>\n",
       "\n",
       "      <script>\n",
       "        const buttonEl =\n",
       "          document.querySelector('#df-c5909da7-ea81-4967-830d-5e44516560cd button.colab-df-convert');\n",
       "        buttonEl.style.display =\n",
       "          google.colab.kernel.accessAllowed ? 'block' : 'none';\n",
       "\n",
       "        async function convertToInteractive(key) {\n",
       "          const element = document.querySelector('#df-c5909da7-ea81-4967-830d-5e44516560cd');\n",
       "          const dataTable =\n",
       "            await google.colab.kernel.invokeFunction('convertToInteractive',\n",
       "                                                     [key], {});\n",
       "          if (!dataTable) return;\n",
       "\n",
       "          const docLinkHtml = 'Like what you see? Visit the ' +\n",
       "            '<a target=\"_blank\" href=https://colab.research.google.com/notebooks/data_table.ipynb>data table notebook</a>'\n",
       "            + ' to learn more about interactive tables.';\n",
       "          element.innerHTML = '';\n",
       "          dataTable['output_type'] = 'display_data';\n",
       "          await google.colab.output.renderOutput(dataTable, element);\n",
       "          const docLink = document.createElement('div');\n",
       "          docLink.innerHTML = docLinkHtml;\n",
       "          element.appendChild(docLink);\n",
       "        }\n",
       "      </script>\n",
       "    </div>\n",
       "  </div>\n",
       "  "
      ],
      "text/plain": [
       "       tmp\n",
       "year      \n",
       "1880 -0.16\n",
       "1881 -0.08\n",
       "1882 -0.10\n",
       "1883 -0.16\n",
       "1884 -0.28\n",
       "...    ...\n",
       "2016  1.01\n",
       "2017  0.92\n",
       "2018  0.85\n",
       "2019  0.98\n",
       "2020  1.02\n",
       "\n",
       "[141 rows x 1 columns]"
      ]
     },
     "execution_count": 44,
     "metadata": {},
     "output_type": "execute_result"
    }
   ],
   "source": [
    "df1_new.year= df1_new.year.astype(int)\n",
    "df1_new.tmp= df1_new.tmp.astype(float)\n",
    "df1_new = df1_new.set_index('year')\n",
    "df1_new"
   ]
  },
  {
   "cell_type": "code",
   "execution_count": 45,
   "metadata": {
    "colab": {
     "base_uri": "https://localhost:8080/",
     "height": 300
    },
    "id": "NNqVu6yG0xum",
    "outputId": "24e26c5c-9487-4776-8274-d54ba6b6f021"
   },
   "outputs": [
    {
     "data": {
      "text/html": [
       "\n",
       "  <div id=\"df-2c7dbd5c-e56a-4082-969c-ac64a206812a\">\n",
       "    <div class=\"colab-df-container\">\n",
       "      <div>\n",
       "<style scoped>\n",
       "    .dataframe tbody tr th:only-of-type {\n",
       "        vertical-align: middle;\n",
       "    }\n",
       "\n",
       "    .dataframe tbody tr th {\n",
       "        vertical-align: top;\n",
       "    }\n",
       "\n",
       "    .dataframe thead th {\n",
       "        text-align: right;\n",
       "    }\n",
       "</style>\n",
       "<table border=\"1\" class=\"dataframe\">\n",
       "  <thead>\n",
       "    <tr style=\"text-align: right;\">\n",
       "      <th></th>\n",
       "      <th>tmp</th>\n",
       "    </tr>\n",
       "  </thead>\n",
       "  <tbody>\n",
       "    <tr>\n",
       "      <th>count</th>\n",
       "      <td>141.000000</td>\n",
       "    </tr>\n",
       "    <tr>\n",
       "      <th>mean</th>\n",
       "      <td>0.049291</td>\n",
       "    </tr>\n",
       "    <tr>\n",
       "      <th>std</th>\n",
       "      <td>0.358341</td>\n",
       "    </tr>\n",
       "    <tr>\n",
       "      <th>min</th>\n",
       "      <td>-0.480000</td>\n",
       "    </tr>\n",
       "    <tr>\n",
       "      <th>25%</th>\n",
       "      <td>-0.200000</td>\n",
       "    </tr>\n",
       "    <tr>\n",
       "      <th>50%</th>\n",
       "      <td>-0.070000</td>\n",
       "    </tr>\n",
       "    <tr>\n",
       "      <th>75%</th>\n",
       "      <td>0.230000</td>\n",
       "    </tr>\n",
       "    <tr>\n",
       "      <th>max</th>\n",
       "      <td>1.020000</td>\n",
       "    </tr>\n",
       "  </tbody>\n",
       "</table>\n",
       "</div>\n",
       "      <button class=\"colab-df-convert\" onclick=\"convertToInteractive('df-2c7dbd5c-e56a-4082-969c-ac64a206812a')\"\n",
       "              title=\"Convert this dataframe to an interactive table.\"\n",
       "              style=\"display:none;\">\n",
       "        \n",
       "  <svg xmlns=\"http://www.w3.org/2000/svg\" height=\"24px\"viewBox=\"0 0 24 24\"\n",
       "       width=\"24px\">\n",
       "    <path d=\"M0 0h24v24H0V0z\" fill=\"none\"/>\n",
       "    <path d=\"M18.56 5.44l.94 2.06.94-2.06 2.06-.94-2.06-.94-.94-2.06-.94 2.06-2.06.94zm-11 1L8.5 8.5l.94-2.06 2.06-.94-2.06-.94L8.5 2.5l-.94 2.06-2.06.94zm10 10l.94 2.06.94-2.06 2.06-.94-2.06-.94-.94-2.06-.94 2.06-2.06.94z\"/><path d=\"M17.41 7.96l-1.37-1.37c-.4-.4-.92-.59-1.43-.59-.52 0-1.04.2-1.43.59L10.3 9.45l-7.72 7.72c-.78.78-.78 2.05 0 2.83L4 21.41c.39.39.9.59 1.41.59.51 0 1.02-.2 1.41-.59l7.78-7.78 2.81-2.81c.8-.78.8-2.07 0-2.86zM5.41 20L4 18.59l7.72-7.72 1.47 1.35L5.41 20z\"/>\n",
       "  </svg>\n",
       "      </button>\n",
       "      \n",
       "  <style>\n",
       "    .colab-df-container {\n",
       "      display:flex;\n",
       "      flex-wrap:wrap;\n",
       "      gap: 12px;\n",
       "    }\n",
       "\n",
       "    .colab-df-convert {\n",
       "      background-color: #E8F0FE;\n",
       "      border: none;\n",
       "      border-radius: 50%;\n",
       "      cursor: pointer;\n",
       "      display: none;\n",
       "      fill: #1967D2;\n",
       "      height: 32px;\n",
       "      padding: 0 0 0 0;\n",
       "      width: 32px;\n",
       "    }\n",
       "\n",
       "    .colab-df-convert:hover {\n",
       "      background-color: #E2EBFA;\n",
       "      box-shadow: 0px 1px 2px rgba(60, 64, 67, 0.3), 0px 1px 3px 1px rgba(60, 64, 67, 0.15);\n",
       "      fill: #174EA6;\n",
       "    }\n",
       "\n",
       "    [theme=dark] .colab-df-convert {\n",
       "      background-color: #3B4455;\n",
       "      fill: #D2E3FC;\n",
       "    }\n",
       "\n",
       "    [theme=dark] .colab-df-convert:hover {\n",
       "      background-color: #434B5C;\n",
       "      box-shadow: 0px 1px 3px 1px rgba(0, 0, 0, 0.15);\n",
       "      filter: drop-shadow(0px 1px 2px rgba(0, 0, 0, 0.3));\n",
       "      fill: #FFFFFF;\n",
       "    }\n",
       "  </style>\n",
       "\n",
       "      <script>\n",
       "        const buttonEl =\n",
       "          document.querySelector('#df-2c7dbd5c-e56a-4082-969c-ac64a206812a button.colab-df-convert');\n",
       "        buttonEl.style.display =\n",
       "          google.colab.kernel.accessAllowed ? 'block' : 'none';\n",
       "\n",
       "        async function convertToInteractive(key) {\n",
       "          const element = document.querySelector('#df-2c7dbd5c-e56a-4082-969c-ac64a206812a');\n",
       "          const dataTable =\n",
       "            await google.colab.kernel.invokeFunction('convertToInteractive',\n",
       "                                                     [key], {});\n",
       "          if (!dataTable) return;\n",
       "\n",
       "          const docLinkHtml = 'Like what you see? Visit the ' +\n",
       "            '<a target=\"_blank\" href=https://colab.research.google.com/notebooks/data_table.ipynb>data table notebook</a>'\n",
       "            + ' to learn more about interactive tables.';\n",
       "          element.innerHTML = '';\n",
       "          dataTable['output_type'] = 'display_data';\n",
       "          await google.colab.output.renderOutput(dataTable, element);\n",
       "          const docLink = document.createElement('div');\n",
       "          docLink.innerHTML = docLinkHtml;\n",
       "          element.appendChild(docLink);\n",
       "        }\n",
       "      </script>\n",
       "    </div>\n",
       "  </div>\n",
       "  "
      ],
      "text/plain": [
       "              tmp\n",
       "count  141.000000\n",
       "mean     0.049291\n",
       "std      0.358341\n",
       "min     -0.480000\n",
       "25%     -0.200000\n",
       "50%     -0.070000\n",
       "75%      0.230000\n",
       "max      1.020000"
      ]
     },
     "execution_count": 45,
     "metadata": {},
     "output_type": "execute_result"
    }
   ],
   "source": [
    "df1_new.describe()"
   ]
  },
  {
   "cell_type": "code",
   "execution_count": 49,
   "metadata": {
    "colab": {
     "base_uri": "https://localhost:8080/"
    },
    "id": "Fnp6YLbQ8hHs",
    "outputId": "662c06f3-7247-4d8b-9292-cfb6be3f83eb"
   },
   "outputs": [
    {
     "name": "stdout",
     "output_type": "stream",
     "text": [
      "   Year     Population Growth Rate\n",
      "0  2022  7,953,952,567       1.00%\n",
      "1  2021  7,874,965,825       1.03%\n",
      "2  2020  7,794,798,739       1.05%\n",
      "3  2019  7,713,468,100       1.08%\n",
      "4  2018  7,631,091,040       1.10%\n",
      "5  2017  7,547,858,925       1.12%\n",
      "6  2016  7,464,022,049       1.14%\n",
      "7  2015  7,379,797,139       1.16%\n",
      "8  2014  7,295,290,765       1.17%\n",
      "9  2013  7,210,581,976       1.19%\n",
      "    Year     Population Growth Rate\n",
      "68  1954  2,724,846,741       1.76%\n",
      "69  1953  2,677,608,960       1.78%\n",
      "70  1952  2,630,861,562       1.81%\n",
      "71  1951  2,584,034,261       1.88%\n",
      "72  1950  2,536,431,149       0.00%\n",
      "   Year     Population\n",
      "0  2022  7,953,952,567\n",
      "1  2021  7,874,965,825\n",
      "2  2020  7,794,798,739\n",
      "3  2019  7,713,468,100\n",
      "4  2018  7,631,091,040\n",
      "    Year     Population\n",
      "68  1954  2,724,846,741\n",
      "69  1953  2,677,608,960\n",
      "70  1952  2,630,861,562\n",
      "71  1951  2,584,034,261\n",
      "72  1950  2,536,431,149\n",
      "<class 'pandas.core.frame.DataFrame'>\n",
      "RangeIndex: 73 entries, 0 to 72\n",
      "Data columns (total 2 columns):\n",
      " #   Column      Non-Null Count  Dtype \n",
      "---  ------      --------------  ----- \n",
      " 0   Year        73 non-null     int64 \n",
      " 1   Population  73 non-null     object\n",
      "dtypes: int64(1), object(1)\n",
      "memory usage: 1.3+ KB\n",
      "<class 'pandas.core.frame.DataFrame'>\n",
      "RangeIndex: 73 entries, 0 to 72\n",
      "Data columns (total 2 columns):\n",
      " #   Column  Non-Null Count  Dtype \n",
      "---  ------  --------------  ----- \n",
      " 0   year    73 non-null     int64 \n",
      " 1   pop     73 non-null     object\n",
      "dtypes: int64(1), object(1)\n",
      "memory usage: 1.3+ KB\n",
      "   year           pop\n",
      "0  2022  7.953953e+09\n",
      "1  2021  7.874966e+09\n",
      "2  2020  7.794799e+09\n",
      "3  2019  7.713468e+09\n",
      "4  2018  7.631091e+09\n",
      "    year           pop\n",
      "68  1954  2.724847e+09\n",
      "69  1953  2.677609e+09\n",
      "70  1952  2.630862e+09\n",
      "71  1951  2.584034e+09\n",
      "72  1950  2.536431e+09\n",
      "               pop\n",
      "year              \n",
      "2022  7.953953e+09\n",
      "2021  7.874966e+09\n",
      "2020  7.794799e+09\n",
      "2019  7.713468e+09\n",
      "2018  7.631091e+09\n"
     ]
    }
   ],
   "source": [
    "print(df2.head(10))\n",
    "print(df2.tail())\n",
    "df2_new = df2.iloc[:,:2]\n",
    "print(df2_new.head())\n",
    "print(df2_new.tail())\n",
    "df2_new.info()\n",
    "df2_new.columns = ['year', 'pop']\n",
    "df2_new.info()\n",
    "\n",
    "df2_new['pop'] = df2_new['pop'].str.replace(',', '')\n",
    "df2_new['pop'] = df2_new['pop'].astype(float)\n",
    "print(df2_new.head())\n",
    "print(df2_new.tail())\n",
    "\n",
    "df2_new_2 = df2_new.set_index('year')\n",
    "print(df2_new_2.head())"
   ]
  },
  {
   "cell_type": "code",
   "execution_count": 51,
   "metadata": {
    "colab": {
     "base_uri": "https://localhost:8080/"
    },
    "id": "ptnGtCpCB08u",
    "outputId": "5714e5e3-c711-43fe-edcf-ec816557664f"
   },
   "outputs": [
    {
     "name": "stdout",
     "output_type": "stream",
     "text": [
      "       tmp  pop\n",
      "year           \n",
      "1880 -0.16  NaN\n",
      "1881 -0.08  NaN\n",
      "1882 -0.10  NaN\n",
      "1883 -0.16  NaN\n",
      "1884 -0.28  NaN\n",
      "       tmp           pop\n",
      "year                    \n",
      "2018  0.85  7.631091e+09\n",
      "2019  0.98  7.713468e+09\n",
      "2020  1.02  7.794799e+09\n",
      "2021   NaN  7.874966e+09\n",
      "2022   NaN  7.953953e+09\n"
     ]
    }
   ],
   "source": [
    "Xy = pd.concat([df1_new, df2_new_2], axis = 1) # 가로로 합치기\n",
    "print(Xy.head())\n",
    "print(Xy.tail())"
   ]
  },
  {
   "cell_type": "code",
   "execution_count": 59,
   "metadata": {
    "colab": {
     "base_uri": "https://localhost:8080/"
    },
    "id": "u7vuJRqkMpzq",
    "outputId": "b0f4f70d-ee41-4788-e3c5-7092a99fface"
   },
   "outputs": [
    {
     "name": "stdout",
     "output_type": "stream",
     "text": [
      "       tmp           pop\n",
      "year                    \n",
      "1950 -0.17  2.536431e+09\n",
      "1951 -0.07  2.584034e+09\n",
      "1952  0.01  2.630862e+09\n",
      "1953  0.08  2.677609e+09\n",
      "1954 -0.13  2.724847e+09\n",
      "       tmp           pop\n",
      "year                    \n",
      "2016  1.01  7.464022e+09\n",
      "2017  0.92  7.547859e+09\n",
      "2018  0.85  7.631091e+09\n",
      "2019  0.98  7.713468e+09\n",
      "2020  1.02  7.794799e+09\n"
     ]
    }
   ],
   "source": [
    "Xy_new = Xy.dropna(axis=0)\n",
    "print(Xy_new.head())\n",
    "print(Xy_new.tail())"
   ]
  },
  {
   "cell_type": "code",
   "execution_count": 60,
   "metadata": {
    "colab": {
     "base_uri": "https://localhost:8080/"
    },
    "id": "xlJGNvmoNFFJ",
    "outputId": "1c8c0e18-0030-4d63-b8f6-e0edfec931e4"
   },
   "outputs": [
    {
     "name": "stdout",
     "output_type": "stream",
     "text": [
      "year\n",
      "1950   -0.17\n",
      "1951   -0.07\n",
      "1952    0.01\n",
      "1953    0.08\n",
      "1954   -0.13\n",
      "        ... \n",
      "2016    1.01\n",
      "2017    0.92\n",
      "2018    0.85\n",
      "2019    0.98\n",
      "2020    1.02\n",
      "Name: tmp, Length: 71, dtype: float64\n",
      "[[-1.52035349]\n",
      " [-1.49058057]\n",
      " [-1.46129288]\n",
      " [-1.43205516]\n",
      " [-1.40251074]\n",
      " [-1.37238127]\n",
      " [-1.34146991]\n",
      " [-1.30965825]\n",
      " [-1.27689729]\n",
      " [-1.24319262]\n",
      " [-1.20855975]\n",
      " [-1.17297609]\n",
      " [-1.13633948]\n",
      " [-1.09845016]\n",
      " [-1.05906158]\n",
      " [-1.0180294 ]\n",
      " [-0.9752874 ]\n",
      " [-0.9309766 ]\n",
      " [-0.88542629]\n",
      " [-0.83909272]\n",
      " [-0.79233702]\n",
      " [-0.74522724]\n",
      " [-0.69776216]\n",
      " [-0.65014738]\n",
      " [-0.60260518]\n",
      " [-0.55526782]\n",
      " [-0.50824329]\n",
      " [-0.46143582]\n",
      " [-0.41451062]\n",
      " [-0.36699427]\n",
      " [-0.31852425]\n",
      " [-0.26911867]\n",
      " [-0.21883965]\n",
      " [-0.16743921]\n",
      " [-0.11462557]\n",
      " [-0.06026846]\n",
      " [-0.00420011]\n",
      " [ 0.0533118 ]\n",
      " [ 0.11141764]\n",
      " [ 0.16896789]\n",
      " [ 0.22512589]\n",
      " [ 0.27957573]\n",
      " [ 0.33250699]\n",
      " [ 0.384217  ]\n",
      " [ 0.43522347]\n",
      " [ 0.48592328]\n",
      " [ 0.53638318]\n",
      " [ 0.58651464]\n",
      " [ 0.63639236]\n",
      " [ 0.68608056]\n",
      " [ 0.7356497 ]\n",
      " [ 0.78514255]\n",
      " [ 0.83464403]\n",
      " [ 0.88431147]\n",
      " [ 0.93433062]\n",
      " [ 0.98483347]\n",
      " [ 1.03587617]\n",
      " [ 1.08743047]\n",
      " [ 1.1394309 ]\n",
      " [ 1.19176676]\n",
      " [ 1.24433911]\n",
      " [ 1.29710797]\n",
      " [ 1.35004135]\n",
      " [ 1.40304988]\n",
      " [ 1.45603019]\n",
      " [ 1.5088839 ]\n",
      " [ 1.56156158]\n",
      " [ 1.61399656]\n",
      " [ 1.66605329]\n",
      " [ 1.71757525]\n",
      " [ 1.76844272]]\n"
     ]
    }
   ],
   "source": [
    "import numpy as np\n",
    "import pandas as pd\n",
    "from sklearn.preprocessing import StandardScaler, MinMaxScaler\n",
    "from sklearn.linear_model import LinearRegression\n",
    "from sklearn.metrics import r2_score\n",
    "\n",
    "y = Xy_new.tmp\n",
    "X = Xy_new.iloc[:,1:]\n",
    "scaler = StandardScaler() # z-score\n",
    "X_scaled = scaler.fit_transform(X)\n",
    "print(y)\n",
    "print(X_scaled)"
   ]
  },
  {
   "cell_type": "code",
   "execution_count": 61,
   "metadata": {
    "colab": {
     "base_uri": "https://localhost:8080/"
    },
    "id": "m3m8HX0hP58A",
    "outputId": "286cd02e-4895-4d91-d3a1-07da2d0aee25"
   },
   "outputs": [
    {
     "name": "stdout",
     "output_type": "stream",
     "text": [
      "<zip object at 0x7f1ed8379280>\n",
      "0.8950370360640056\n"
     ]
    }
   ],
   "source": [
    "model = LinearRegression()\n",
    "model_train = model.fit(X_scaled,y)\n",
    "y_pred = model_train.predict(X_scaled)\n",
    "\n",
    "print(zip(y,y_pred))\n",
    "print(r2_score(y,y_pred))"
   ]
  },
  {
   "cell_type": "code",
   "execution_count": 69,
   "metadata": {
    "colab": {
     "base_uri": "https://localhost:8080/",
     "height": 265
    },
    "id": "UtYUzfc2Qmi3",
    "outputId": "b3fd3bdf-4004-440e-f8ef-bd17d3a21bc9"
   },
   "outputs": [
    {
     "data": {
      "image/png": "[encoded data removed]",
      "text/plain": [
       "<Figure size 432x288 with 1 Axes>"
      ]
     },
     "metadata": {
      "needs_background": "light"
     },
     "output_type": "display_data"
    }
   ],
   "source": [
    "import matplotlib.pyplot as plt\n",
    "\n",
    "plt.scatter(X_scaled[:,0],y, label = 'actual')\n",
    "plt.plot(X_scaled[:,0],y_pred, label = 'pred')\n",
    "plt.legend()\n",
    "plt.show()"
   ]
  },
  {
   "cell_type": "code",
   "execution_count": 70,
   "metadata": {
    "colab": {
     "base_uri": "https://localhost:8080/",
     "height": 372
    },
    "id": "0no21qPCRQN3",
    "outputId": "b8d227ba-1f72-462f-c33c-901cb0eb0e32"
   },
   "outputs": [
    {
     "name": "stderr",
     "output_type": "stream",
     "text": [
      "/usr/local/lib/python3.7/dist-packages/seaborn/distributions.py:2619: FutureWarning: `distplot` is a deprecated function and will be removed in a future version. Please adapt your code to use either `displot` (a figure-level function with similar flexibility) or `kdeplot` (an axes-level function for kernel density plots).\n",
      "  warnings.warn(msg, FutureWarning)\n",
      "/usr/local/lib/python3.7/dist-packages/seaborn/distributions.py:2619: FutureWarning: `distplot` is a deprecated function and will be removed in a future version. Please adapt your code to use either `displot` (a figure-level function with similar flexibility) or `kdeplot` (an axes-level function for kernel density plots).\n",
      "  warnings.warn(msg, FutureWarning)\n"
     ]
    },
    {
     "data": {
      "image/png": "[encoded data removed]",
      "text/plain": [
       "<Figure size 432x288 with 1 Axes>"
      ]
     },
     "metadata": {
      "needs_background": "light"
     },
     "output_type": "display_data"
    }
   ],
   "source": [
    "import seaborn as sns\n",
    "\n",
    "plt.figure()\n",
    "ax1 = sns.distplot(y, hist=False, label = 'actual')\n",
    "ax2 = sns.distplot(y_pred, hist=False, label = 'pred', ax = ax1)\n",
    "plt.show()"
   ]
  },
  {
   "cell_type": "code",
   "execution_count": 78,
   "metadata": {
    "colab": {
     "base_uri": "https://localhost:8080/"
    },
    "id": "6C0SlU0F3LZ6",
    "outputId": "f251e10c-51d9-4ce3-cca4-055c892b1204"
   },
   "outputs": [
    {
     "name": "stdout",
     "output_type": "stream",
     "text": [
      "[0.31244445]\n",
      "0.29450704225352126\n",
      "y = [0.31244445]x + 0.29450704225352126\n"
     ]
    }
   ],
   "source": [
    "a = model.coef_\n",
    "b = model.intercept_\n",
    "print(a)\n",
    "print(b)\n",
    "print('y = {}x + {}'.format(a,b))"
   ]
  },
  {
   "cell_type": "code",
   "execution_count": 79,
   "metadata": {
    "colab": {
     "base_uri": "https://localhost:8080/"
    },
    "id": "zSNi8THPRfEJ",
    "outputId": "be68b61a-83a4-47d3-dc06-e74769380639"
   },
   "outputs": [
    {
     "name": "stdout",
     "output_type": "stream",
     "text": [
      "[3.12444451e+09] [6.24888902e+09]\n"
     ]
    }
   ],
   "source": [
    "#인구수가 10억, 20억일때 지구 온도는?\n",
    "x1 = 10e+09\n",
    "x2 = 20e+09\n",
    "y1 = a * x1 + b\n",
    "y2 = a * x2 + b\n",
    "print(y1, y2)"
   ]
  }
 ],
 "metadata": {
  "colab": {
   "collapsed_sections": [],
   "name": "nasa_tmp.ipynb",
   "provenance": []
  },
  "kernelspec": {
   "display_name": "Python 3",
   "language": "python",
   "name": "python3"
  },
  "language_info": {
   "codemirror_mode": {
    "name": "ipython",
    "version": 3
   },
   "file_extension": ".py",
   "mimetype": "text/x-python",
   "name": "python",
   "nbconvert_exporter": "python",
   "pygments_lexer": "ipython3",
   "version": "3.7.9"
  }
 },
 "nbformat": 4,
 "nbformat_minor": 1
}
